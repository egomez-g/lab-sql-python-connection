{
 "cells": [
  {
   "cell_type": "code",
   "execution_count": null,
   "metadata": {},
   "outputs": [],
   "source": [
    "!pip install sqlalchemy pandas pymysql\n"
   ]
  },
  {
   "cell_type": "code",
   "execution_count": null,
   "metadata": {},
   "outputs": [],
   "source": [
    "from sqlalchemy import create_engine\n",
    "\n",
    "engine = create_engine(\".env data\")\n"
   ]
  },
  {
   "cell_type": "code",
   "execution_count": null,
   "metadata": {},
   "outputs": [],
   "source": [
    "import pandas as pd\n",
    "\n",
    "def rentals_month(engine, month, year):\n",
    "    # SQL query to get rental data for the given month and year\n",
    "    query = f\"\"\"\n",
    "    SELECT r.customer_id, r.rental_date\n",
    "    FROM rental r\n",
    "    WHERE MONTH(r.rental_date) = {month} AND YEAR(r.rental_date) = {year}\n",
    "    \"\"\"\n",
    "    # Execute the query and return the result as a Pandas DataFrame\n",
    "    return pd.read_sql(query, engine)\n"
   ]
  },
  {
   "cell_type": "code",
   "execution_count": null,
   "metadata": {},
   "outputs": [],
   "source": [
    "def rental_count_month(rentals_df, month, year):\n",
    "    # Group by customer_id and count the number of rentals\n",
    "    rentals_count = rentals_df.groupby('customer_id').size().reset_index(name='rental_count')\n",
    "    \n",
    "    # Add the new column for the specific month and year\n",
    "    rentals_count[f'rentals_{month:02d}_{year}'] = rentals_count['rental_count']\n",
    "    \n",
    "    # Drop the 'rental_count' column, as it's no longer needed\n",
    "    rentals_count.drop(columns=['rental_count'], inplace=True)\n",
    "    \n",
    "    return rentals_count\n"
   ]
  },
  {
   "cell_type": "code",
   "execution_count": null,
   "metadata": {},
   "outputs": [],
   "source": [
    "def compare_rentals(df1, df2):\n",
    "    # Merge the two DataFrames on customer_id\n",
    "    merged_df = pd.merge(df1, df2, on='customer_id', how='outer', suffixes=('_month1', '_month2'))\n",
    "    \n",
    "    # Calculate the difference between the two months\n",
    "    merged_df['difference'] = merged_df[f'rentals_{df1.columns[1][:2]}_{df1.columns[1][3:]}'] - merged_df[f'rentals_{df2.columns[1][:2]}_{df2.columns[1][3:]}']\n",
    "    \n",
    "    return merged_df\n"
   ]
  },
  {
   "cell_type": "code",
   "execution_count": null,
   "metadata": {},
   "outputs": [],
   "source": [
    "rentals_may = rentals_month(engine, 5, 2005)\n",
    "rentals_june = rentals_month(engine, 6, 2005)\n",
    "\n",
    "# Get the rental counts for both months\n",
    "rentals_count_may = rental_count_month(rentals_may, 5, 2005)\n",
    "rentals_count_june = rental_count_month(rentals_june, 6, 2005)\n",
    "\n",
    "# Compare rentals between May and June\n",
    "comparison_df = compare_rentals(rentals_count_may, rentals_count_june)\n",
    "\n",
    "# Display the comparison DataFrame\n",
    "print(comparison_df)"
   ]
  }
 ],
 "metadata": {
  "language_info": {
   "name": "python"
  }
 },
 "nbformat": 4,
 "nbformat_minor": 2
}
